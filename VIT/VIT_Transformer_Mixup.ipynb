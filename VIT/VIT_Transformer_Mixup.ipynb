{
 "cells": [
  {
   "cell_type": "code",
   "execution_count": 1,
   "metadata": {},
   "outputs": [],
   "source": [
    "import torch\n",
    "import torch.nn as nn\n",
    "import torch.optim as optim\n",
    "import torchvision\n",
    "from torchvision import transforms\n",
    "from torch.utils.data import DataLoader\n",
    "from torch.autograd import Variable\n",
    "import torch.nn.functional as F\n",
    "import matplotlib.pyplot as plt\n",
    "from pytorch_pretrained_vit import ViT\n",
    "from torchvision.transforms import v2"
   ]
  },
  {
   "cell_type": "code",
   "execution_count": 2,
   "metadata": {},
   "outputs": [],
   "source": [
    "# Define a custom dataset for Fashion MNIST\n",
    "class FashionMNISTDataset(torch.utils.data.Dataset):\n",
    "    def __init__(self, data, targets, transform=None):\n",
    "        self.data = data\n",
    "        self.targets = targets\n",
    "        self.transform = transform\n",
    "\n",
    "    def __len__(self):\n",
    "        return len(self.data)\n",
    "\n",
    "    def __getitem__(self, index):\n",
    "        x = self.data[index]\n",
    "        y = self.targets[index]\n",
    "\n",
    "        if self.transform:\n",
    "            x = self.transform(x)\n",
    "\n",
    "        return x, y"
   ]
  },
  {
   "cell_type": "code",
   "execution_count": 3,
   "metadata": {},
   "outputs": [],
   "source": [
    "# Set up data transforms\n",
    "transform = transforms.Compose([transforms.Grayscale(num_output_channels=3), transforms.ToTensor()])\n",
    "\n",
    "# Load the Fashion MNIST dataset\n",
    "train_dataset = torchvision.datasets.FashionMNIST(root='./data', train=True, transform=transform, download=True)\n",
    "test_dataset = torchvision.datasets.FashionMNIST(root='./data', train=False, transform=transform, download=True)\n",
    "\n",
    "# Create data loaders\n",
    "train_loader = DataLoader(train_dataset, batch_size=64, shuffle=True)\n",
    "test_loader = DataLoader(test_dataset, batch_size=64)"
   ]
  },
  {
   "cell_type": "code",
   "execution_count": 4,
   "metadata": {},
   "outputs": [
    {
     "name": "stdout",
     "output_type": "stream",
     "text": [
      "Resized positional embeddings from torch.Size([1, 197, 768]) to torch.Size([1, 2, 768])\n",
      "Loaded pretrained weights.\n"
     ]
    }
   ],
   "source": [
    "cutmix = v2.CutMix(num_classes=10)\n",
    "mixup = v2.MixUp(num_classes=10)\n",
    "cutmix_or_mixup = v2.RandomChoice([cutmix, mixup])\n",
    "\n",
    "# Initialize the ViT model\n",
    "model = ViT('B_16', image_size=28, num_classes=10, pretrained=True)\n",
    "\n",
    "# Adjust the model's first layer to handle single-channel input\n",
    "model.patch_embed = nn.Conv2d(1, 768, kernel_size=16, stride=16)\n",
    "\n",
    "# Define loss function and optimizer\n",
    "criterion = nn.CrossEntropyLoss()\n",
    "optimizer = optim.Adam(model.parameters(), lr=0.001)"
   ]
  },
  {
   "cell_type": "code",
   "execution_count": 5,
   "metadata": {},
   "outputs": [
    {
     "name": "stdout",
     "output_type": "stream",
     "text": [
      "Train Epoch: 1 [0/60000] Loss: 2.3025853633880615\n",
      "Train Epoch: 1 [6400/60000] Loss: 1.7372227907180786\n",
      "Train Epoch: 1 [12800/60000] Loss: 1.8033878803253174\n",
      "Train Epoch: 1 [19200/60000] Loss: 1.3589317798614502\n",
      "Train Epoch: 1 [25600/60000] Loss: 1.4073524475097656\n",
      "Train Epoch: 1 [32000/60000] Loss: 0.9265110492706299\n",
      "Train Epoch: 1 [38400/60000] Loss: 1.6336007118225098\n",
      "Train Epoch: 1 [44800/60000] Loss: 1.4450732469558716\n",
      "Train Epoch: 1 [51200/60000] Loss: 1.4063129425048828\n",
      "Train Epoch: 1 [57600/60000] Loss: 1.4413819313049316\n",
      "Train Epoch: 1, Loss: 1.4169703016975033, Accuracy: 59.165%\n",
      "\n",
      "Test set: Average loss: 0.7340, Accuracy: 76.78%\n",
      "\n",
      "Train Epoch: 2 [0/60000] Loss: 1.2718182802200317\n",
      "Train Epoch: 2 [6400/60000] Loss: 1.4058212041854858\n",
      "Train Epoch: 2 [12800/60000] Loss: 1.3687324523925781\n",
      "Train Epoch: 2 [19200/60000] Loss: 1.3718318939208984\n",
      "Train Epoch: 2 [25600/60000] Loss: 0.9288104176521301\n",
      "Train Epoch: 2 [32000/60000] Loss: 0.7273345589637756\n",
      "Train Epoch: 2 [38400/60000] Loss: 1.223197340965271\n",
      "Train Epoch: 2 [44800/60000] Loss: 1.2819254398345947\n",
      "Train Epoch: 2 [51200/60000] Loss: 1.1811652183532715\n",
      "Train Epoch: 2 [57600/60000] Loss: 1.2206628322601318\n",
      "Train Epoch: 2, Loss: 1.151582313244785, Accuracy: 70.18166666666667%\n",
      "\n",
      "Test set: Average loss: 0.6110, Accuracy: 77.96%\n",
      "\n",
      "Train Epoch: 3 [0/60000] Loss: 1.1157678365707397\n",
      "Train Epoch: 3 [6400/60000] Loss: 1.1455423831939697\n",
      "Train Epoch: 3 [12800/60000] Loss: 1.1410939693450928\n",
      "Train Epoch: 3 [19200/60000] Loss: 1.0165241956710815\n",
      "Train Epoch: 3 [25600/60000] Loss: 1.1159989833831787\n",
      "Train Epoch: 3 [32000/60000] Loss: 1.3200888633728027\n",
      "Train Epoch: 3 [38400/60000] Loss: 1.1737463474273682\n",
      "Train Epoch: 3 [44800/60000] Loss: 0.9210725426673889\n",
      "Train Epoch: 3 [51200/60000] Loss: 1.24053955078125\n",
      "Train Epoch: 3 [57600/60000] Loss: 1.2618895769119263\n",
      "Train Epoch: 3, Loss: 1.0962290747015715, Accuracy: 72.12166666666667%\n",
      "\n",
      "Test set: Average loss: 0.5945, Accuracy: 79.72%\n",
      "\n",
      "Train Epoch: 4 [0/60000] Loss: 1.1506508588790894\n",
      "Train Epoch: 4 [6400/60000] Loss: 1.1268558502197266\n",
      "Train Epoch: 4 [12800/60000] Loss: 1.2005146741867065\n",
      "Train Epoch: 4 [19200/60000] Loss: 0.6903989911079407\n",
      "Train Epoch: 4 [25600/60000] Loss: 1.4498064517974854\n",
      "Train Epoch: 4 [32000/60000] Loss: 1.2174158096313477\n",
      "Train Epoch: 4 [38400/60000] Loss: 1.2392618656158447\n",
      "Train Epoch: 4 [44800/60000] Loss: 0.788292407989502\n",
      "Train Epoch: 4 [51200/60000] Loss: 1.071737289428711\n",
      "Train Epoch: 4 [57600/60000] Loss: 1.2746953964233398\n",
      "Train Epoch: 4, Loss: 1.0600756449358804, Accuracy: 73.1%\n",
      "\n",
      "Test set: Average loss: 0.5615, Accuracy: 81.33%\n",
      "\n",
      "Train Epoch: 5 [0/60000] Loss: 1.2032554149627686\n",
      "Train Epoch: 5 [6400/60000] Loss: 1.2145224809646606\n",
      "Train Epoch: 5 [12800/60000] Loss: 1.0964019298553467\n",
      "Train Epoch: 5 [19200/60000] Loss: 0.5333582758903503\n",
      "Train Epoch: 5 [25600/60000] Loss: 1.2130494117736816\n",
      "Train Epoch: 5 [32000/60000] Loss: 1.0406010150909424\n",
      "Train Epoch: 5 [38400/60000] Loss: 0.8658708930015564\n",
      "Train Epoch: 5 [44800/60000] Loss: 0.5779930353164673\n",
      "Train Epoch: 5 [51200/60000] Loss: 0.7292236089706421\n",
      "Train Epoch: 5 [57600/60000] Loss: 0.9012030959129333\n",
      "Train Epoch: 5, Loss: 1.0415586274125175, Accuracy: 73.49666666666667%\n",
      "\n",
      "Test set: Average loss: 0.5682, Accuracy: 81.23%\n",
      "\n",
      "Train Epoch: 6 [0/60000] Loss: 1.1483453512191772\n",
      "Train Epoch: 6 [6400/60000] Loss: 0.9510926008224487\n",
      "Train Epoch: 6 [12800/60000] Loss: 0.9301487803459167\n",
      "Train Epoch: 6 [19200/60000] Loss: 1.0301628112792969\n",
      "Train Epoch: 6 [25600/60000] Loss: 0.9963039755821228\n",
      "Train Epoch: 6 [32000/60000] Loss: 1.1893771886825562\n",
      "Train Epoch: 6 [38400/60000] Loss: 1.173994779586792\n",
      "Train Epoch: 6 [44800/60000] Loss: 0.9128958582878113\n",
      "Train Epoch: 6 [51200/60000] Loss: 0.8235393166542053\n",
      "Train Epoch: 6 [57600/60000] Loss: 1.131306767463684\n",
      "Train Epoch: 6, Loss: 1.0345419780659015, Accuracy: 73.88%\n",
      "\n",
      "Test set: Average loss: 0.5493, Accuracy: 81.79%\n",
      "\n",
      "Train Epoch: 7 [0/60000] Loss: 1.0611515045166016\n",
      "Train Epoch: 7 [6400/60000] Loss: 0.9771468639373779\n",
      "Train Epoch: 7 [12800/60000] Loss: 1.1693477630615234\n",
      "Train Epoch: 7 [19200/60000] Loss: 1.1040714979171753\n",
      "Train Epoch: 7 [25600/60000] Loss: 0.5662956237792969\n",
      "Train Epoch: 7 [32000/60000] Loss: 1.0732436180114746\n",
      "Train Epoch: 7 [38400/60000] Loss: 1.0229294300079346\n",
      "Train Epoch: 7 [44800/60000] Loss: 0.7903721332550049\n",
      "Train Epoch: 7 [51200/60000] Loss: 1.1695879697799683\n",
      "Train Epoch: 7 [57600/60000] Loss: 1.199468731880188\n",
      "Train Epoch: 7, Loss: 1.0177868811497048, Accuracy: 74.10166666666667%\n",
      "\n",
      "Test set: Average loss: 0.5401, Accuracy: 81.95%\n",
      "\n",
      "Train Epoch: 8 [0/60000] Loss: 1.2055213451385498\n",
      "Train Epoch: 8 [6400/60000] Loss: 1.1725493669509888\n",
      "Train Epoch: 8 [12800/60000] Loss: 1.091426134109497\n",
      "Train Epoch: 8 [19200/60000] Loss: 1.0762630701065063\n",
      "Train Epoch: 8 [25600/60000] Loss: 1.1020206212997437\n",
      "Train Epoch: 8 [32000/60000] Loss: 1.1303534507751465\n",
      "Train Epoch: 8 [38400/60000] Loss: 1.186091661453247\n",
      "Train Epoch: 8 [44800/60000] Loss: 1.330246925354004\n",
      "Train Epoch: 8 [51200/60000] Loss: 0.7425017356872559\n",
      "Train Epoch: 8 [57600/60000] Loss: 0.5337604284286499\n",
      "Train Epoch: 8, Loss: 1.0053500347872024, Accuracy: 75.405%\n",
      "\n",
      "Test set: Average loss: 0.5430, Accuracy: 81.53%\n",
      "\n",
      "Train Epoch: 9 [0/60000] Loss: 1.086526870727539\n",
      "Train Epoch: 9 [6400/60000] Loss: 1.2799978256225586\n",
      "Train Epoch: 9 [12800/60000] Loss: 1.1906888484954834\n",
      "Train Epoch: 9 [19200/60000] Loss: 1.1620166301727295\n",
      "Train Epoch: 9 [25600/60000] Loss: 0.8321830630302429\n",
      "Train Epoch: 9 [32000/60000] Loss: 1.1692097187042236\n",
      "Train Epoch: 9 [38400/60000] Loss: 0.8810813426971436\n",
      "Train Epoch: 9 [44800/60000] Loss: 0.8879350423812866\n",
      "Train Epoch: 9 [51200/60000] Loss: 1.1897029876708984\n",
      "Train Epoch: 9 [57600/60000] Loss: 0.7014493942260742\n",
      "Train Epoch: 9, Loss: 0.9925815838295767, Accuracy: 74.955%\n",
      "\n",
      "Test set: Average loss: 0.5556, Accuracy: 82.44%\n",
      "\n",
      "Train Epoch: 10 [0/60000] Loss: 1.1270676851272583\n",
      "Train Epoch: 10 [6400/60000] Loss: 0.9665307998657227\n",
      "Train Epoch: 10 [12800/60000] Loss: 0.9568650722503662\n",
      "Train Epoch: 10 [19200/60000] Loss: 0.7235381007194519\n",
      "Train Epoch: 10 [25600/60000] Loss: 1.1615231037139893\n",
      "Train Epoch: 10 [32000/60000] Loss: 1.116694688796997\n",
      "Train Epoch: 10 [38400/60000] Loss: 0.7095873355865479\n",
      "Train Epoch: 10 [44800/60000] Loss: 0.644690990447998\n",
      "Train Epoch: 10 [51200/60000] Loss: 1.011566162109375\n",
      "Train Epoch: 10 [57600/60000] Loss: 1.0813713073730469\n",
      "Train Epoch: 10, Loss: 0.9750843076055238, Accuracy: 75.55333333333333%\n",
      "\n",
      "Test set: Average loss: 0.5085, Accuracy: 82.45%\n",
      "\n"
     ]
    }
   ],
   "source": [
    "# Lists to store training and test losses and accuracies\n",
    "train_losses = []\n",
    "test_losses = []\n",
    "train_accuracies = []\n",
    "test_accuracies = []\n",
    "\n",
    "# Training loop\n",
    "def train(epoch):\n",
    "    model.train()\n",
    "    correct = 0\n",
    "    total = 0\n",
    "    running_loss = 0.0\n",
    "\n",
    "    for batch_idx, (data, target) in enumerate(train_loader):\n",
    "        optimizer.zero_grad()\n",
    "        \n",
    "         # Apply either CutMix or MixUp\n",
    "        data, target = mixup(data, target)\n",
    "        \n",
    "        output = model(data)\n",
    "        loss = criterion(output, target)\n",
    "        loss.backward()\n",
    "        optimizer.step()\n",
    "\n",
    "        running_loss += loss.item()\n",
    "        _, predicted = output.max(1)\n",
    "        total += target.size(0)\n",
    "        correct += (predicted == target.argmax(1)).sum().item()\n",
    "\n",
    "        if batch_idx % 100 == 0:\n",
    "            print(f\"Train Epoch: {epoch} [{batch_idx * len(data)}/{len(train_loader.dataset)}] Loss: {loss.item()}\")\n",
    "\n",
    "    train_losses.append(running_loss / len(train_loader))\n",
    "    train_accuracy = 100.0 * correct / total\n",
    "    train_accuracies.append(train_accuracy)\n",
    "    print(f\"Train Epoch: {epoch}, Loss: {running_loss / len(train_loader)}, Accuracy: {train_accuracy}%\")\n",
    "\n",
    "# Testing loop\n",
    "def test():\n",
    "    model.eval()\n",
    "    test_loss = 0\n",
    "    correct = 0\n",
    "    total = 0\n",
    "\n",
    "    with torch.no_grad():\n",
    "        for data, target in test_loader:\n",
    "            output = model(data)\n",
    "            test_loss += criterion(output, target).item()\n",
    "            _, predicted = output.max(1)\n",
    "            total += target.size(0)\n",
    "            correct += (predicted == target).sum().item()\n",
    "\n",
    "    test_loss /= len(test_loader)\n",
    "    accuracy = 100.0 * correct / total\n",
    "    test_accuracies.append(accuracy)\n",
    "    test_losses.append(test_loss)\n",
    "\n",
    "    print(f\"\\nTest set: Average loss: {test_loss:.4f}, Accuracy: {accuracy:.2f}%\\n\")\n",
    "\n",
    "# Training the ViT model\n",
    "for epoch in range(1, 11):  # Train for 10 epochs as an example\n",
    "    train(epoch)\n",
    "    test()"
   ]
  },
  {
   "cell_type": "code",
   "execution_count": 6,
   "metadata": {},
   "outputs": [
    {
     "data": {
      "image/png": "[encoded data removed]",
      "text/plain": [
       "<Figure size 1200x600 with 2 Axes>"
      ]
     },
     "metadata": {},
     "output_type": "display_data"
    }
   ],
   "source": [
    "# Plot the training and test losses and accuracies together\n",
    "plt.figure(figsize=(12, 6))\n",
    "\n",
    "# Plot training and test losses\n",
    "plt.subplot(1, 2, 1)\n",
    "plt.plot(train_losses, label='Training Loss')\n",
    "plt.plot(test_losses, label='Test Loss')\n",
    "plt.xlabel(\"Epoch\")\n",
    "plt.ylabel(\"Loss\")\n",
    "plt.legend()\n",
    "plt.title(\"Training and Test Loss Over Epochs\")\n",
    "\n",
    "# Plot training and test accuracies\n",
    "plt.subplot(1, 2, 2)\n",
    "plt.plot(train_accuracies, label='Training Accuracy')\n",
    "plt.plot(test_accuracies, label='Test Accuracy')\n",
    "plt.xlabel(\"Epoch\")\n",
    "plt.ylabel(\"Accuracy (%)\")\n",
    "plt.legend()\n",
    "plt.title(\"Training and Test Accuracy Over Epochs\")\n",
    "\n",
    "plt.tight_layout()\n",
    "plt.show()"
   ]
  },
  {
   "cell_type": "code",
   "execution_count": 7,
   "metadata": {},
   "outputs": [
    {
     "name": "stdout",
     "output_type": "stream",
     "text": [
      "[1.4169703016975033, 1.151582313244785, 1.0962290747015715, 1.0600756449358804, 1.0415586274125175, 1.0345419780659015, 1.0177868811497048, 1.0053500347872024, 0.9925815838295767, 0.9750843076055238]\n"
     ]
    }
   ],
   "source": [
    "print(train_losses)"
   ]
  },
  {
   "cell_type": "code",
   "execution_count": 8,
   "metadata": {},
   "outputs": [
    {
     "name": "stdout",
     "output_type": "stream",
     "text": [
      "[0.7340468487162499, 0.6109633388792634, 0.5945166763226697, 0.561512925252793, 0.5682129662507659, 0.5492976930490725, 0.5400805317672195, 0.5430411609115114, 0.555562413042518, 0.508487203318602]\n"
     ]
    }
   ],
   "source": [
    "print(test_losses)"
   ]
  },
  {
   "cell_type": "code",
   "execution_count": 9,
   "metadata": {},
   "outputs": [
    {
     "name": "stdout",
     "output_type": "stream",
     "text": [
      "[59.165, 70.18166666666667, 72.12166666666667, 73.1, 73.49666666666667, 73.88, 74.10166666666667, 75.405, 74.955, 75.55333333333333]\n"
     ]
    }
   ],
   "source": [
    "print(train_accuracies)"
   ]
  },
  {
   "cell_type": "code",
   "execution_count": 10,
   "metadata": {},
   "outputs": [
    {
     "name": "stdout",
     "output_type": "stream",
     "text": [
      "[76.78, 77.96, 79.72, 81.33, 81.23, 81.79, 81.95, 81.53, 82.44, 82.45]\n"
     ]
    }
   ],
   "source": [
    "print(test_accuracies)"
   ]
  },
  {
   "cell_type": "code",
   "execution_count": null,
   "metadata": {},
   "outputs": [],
   "source": []
  }
 ],
 "metadata": {
  "kernelspec": {
   "display_name": "Python 3",
   "language": "python",
   "name": "python3"
  },
  "language_info": {
   "codemirror_mode": {
    "name": "ipython",
    "version": 3
   },
   "file_extension": ".py",
   "mimetype": "text/x-python",
   "name": "python",
   "nbconvert_exporter": "python",
   "pygments_lexer": "ipython3",
   "version": "3.11.4"
  }
 },
 "nbformat": 4,
 "nbformat_minor": 2
}

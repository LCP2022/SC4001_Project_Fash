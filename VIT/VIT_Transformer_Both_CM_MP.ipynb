{
 "cells": [
  {
   "cell_type": "code",
   "execution_count": 1,
   "metadata": {},
   "outputs": [],
   "source": [
    "import torch\n",
    "import torch.nn as nn\n",
    "import torch.optim as optim\n",
    "import torchvision\n",
    "from torchvision import transforms\n",
    "from torch.utils.data import DataLoader\n",
    "from torch.autograd import Variable\n",
    "import torch.nn.functional as F\n",
    "import matplotlib.pyplot as plt\n",
    "from pytorch_pretrained_vit import ViT\n",
    "from torchvision.transforms import v2"
   ]
  },
  {
   "cell_type": "code",
   "execution_count": 2,
   "metadata": {},
   "outputs": [],
   "source": [
    "# Define a custom dataset for Fashion MNIST\n",
    "class FashionMNISTDataset(torch.utils.data.Dataset):\n",
    "    def __init__(self, data, targets, transform=None):\n",
    "        self.data = data\n",
    "        self.targets = targets\n",
    "        self.transform = transform\n",
    "\n",
    "    def __len__(self):\n",
    "        return len(self.data)\n",
    "\n",
    "    def __getitem__(self, index):\n",
    "        x = self.data[index]\n",
    "        y = self.targets[index]\n",
    "\n",
    "        if self.transform:\n",
    "            x = self.transform(x)\n",
    "\n",
    "        return x, y"
   ]
  },
  {
   "cell_type": "code",
   "execution_count": 3,
   "metadata": {},
   "outputs": [],
   "source": [
    "# Set up data transforms\n",
    "transform = transforms.Compose([transforms.Grayscale(num_output_channels=3), transforms.ToTensor()])\n",
    "\n",
    "# Load the Fashion MNIST dataset\n",
    "train_dataset = torchvision.datasets.FashionMNIST(root='./data', train=True, transform=transform, download=True)\n",
    "test_dataset = torchvision.datasets.FashionMNIST(root='./data', train=False, transform=transform, download=True)\n",
    "\n",
    "# Create data loaders\n",
    "train_loader = DataLoader(train_dataset, batch_size=64, shuffle=True)\n",
    "test_loader = DataLoader(test_dataset, batch_size=64)"
   ]
  },
  {
   "cell_type": "code",
   "execution_count": 4,
   "metadata": {},
   "outputs": [
    {
     "name": "stdout",
     "output_type": "stream",
     "text": [
      "Resized positional embeddings from torch.Size([1, 197, 768]) to torch.Size([1, 2, 768])\n",
      "Loaded pretrained weights.\n"
     ]
    }
   ],
   "source": [
    "cutmix = v2.CutMix(num_classes=10)\n",
    "mixup = v2.MixUp(num_classes=10)\n",
    "cutmix_or_mixup = v2.RandomChoice([cutmix, mixup])\n",
    "\n",
    "# Initialize the ViT model\n",
    "model = ViT('B_16', image_size=28, num_classes=10, pretrained=True)\n",
    "\n",
    "# Adjust the model's first layer to handle single-channel input\n",
    "model.patch_embed = nn.Conv2d(1, 768, kernel_size=16, stride=16)\n",
    "\n",
    "# Define loss function and optimizer\n",
    "criterion = nn.CrossEntropyLoss()\n",
    "optimizer = optim.Adam(model.parameters(), lr=0.001)"
   ]
  },
  {
   "cell_type": "code",
   "execution_count": 5,
   "metadata": {},
   "outputs": [
    {
     "name": "stdout",
     "output_type": "stream",
     "text": [
      "Train Epoch: 1 [0/60000] Loss: 2.3025851249694824\n",
      "Train Epoch: 1 [6400/60000] Loss: 2.0654754638671875\n",
      "Train Epoch: 1 [12800/60000] Loss: 1.403023362159729\n",
      "Train Epoch: 1 [19200/60000] Loss: 1.6560858488082886\n",
      "Train Epoch: 1 [25600/60000] Loss: 1.722894310951233\n",
      "Train Epoch: 1 [32000/60000] Loss: 1.3643890619277954\n",
      "Train Epoch: 1 [38400/60000] Loss: 2.0032601356506348\n",
      "Train Epoch: 1 [44800/60000] Loss: 1.837734580039978\n",
      "Train Epoch: 1 [51200/60000] Loss: 1.4771409034729004\n",
      "Train Epoch: 1 [57600/60000] Loss: 0.9552240967750549\n",
      "Train Epoch: 1, Loss: 1.6743269043563525, Accuracy: 47.75%\n",
      "\n",
      "Test set: Average loss: 0.9215, Accuracy: 73.57%\n",
      "\n",
      "Train Epoch: 2 [0/60000] Loss: 1.8235567808151245\n",
      "Train Epoch: 2 [6400/60000] Loss: 1.0324290990829468\n",
      "Train Epoch: 2 [12800/60000] Loss: 1.2560796737670898\n",
      "Train Epoch: 2 [19200/60000] Loss: 1.4190422296524048\n",
      "Train Epoch: 2 [25600/60000] Loss: 1.6226530075073242\n",
      "Train Epoch: 2 [32000/60000] Loss: 1.7234736680984497\n",
      "Train Epoch: 2 [38400/60000] Loss: 1.92966890335083\n",
      "Train Epoch: 2 [44800/60000] Loss: 1.1948648691177368\n",
      "Train Epoch: 2 [51200/60000] Loss: 1.0072206258773804\n",
      "Train Epoch: 2 [57600/60000] Loss: 1.0885374546051025\n",
      "Train Epoch: 2, Loss: 1.4292877216710211, Accuracy: 61.625%\n",
      "\n",
      "Test set: Average loss: 0.7513, Accuracy: 78.09%\n",
      "\n",
      "Train Epoch: 3 [0/60000] Loss: 1.1554492712020874\n",
      "Train Epoch: 3 [6400/60000] Loss: 1.492673635482788\n",
      "Train Epoch: 3 [12800/60000] Loss: 1.4194278717041016\n",
      "Train Epoch: 3 [19200/60000] Loss: 1.390890121459961\n",
      "Train Epoch: 3 [25600/60000] Loss: 1.389853835105896\n",
      "Train Epoch: 3 [32000/60000] Loss: 2.0400848388671875\n",
      "Train Epoch: 3 [38400/60000] Loss: 1.4676787853240967\n",
      "Train Epoch: 3 [44800/60000] Loss: 1.1044175624847412\n",
      "Train Epoch: 3 [51200/60000] Loss: 1.629869818687439\n",
      "Train Epoch: 3 [57600/60000] Loss: 1.41258704662323\n",
      "Train Epoch: 3, Loss: 1.3670350243287808, Accuracy: 63.42333333333333%\n",
      "\n",
      "Test set: Average loss: 0.7199, Accuracy: 77.99%\n",
      "\n",
      "Train Epoch: 4 [0/60000] Loss: 0.9831741452217102\n",
      "Train Epoch: 4 [6400/60000] Loss: 1.3320785760879517\n",
      "Train Epoch: 4 [12800/60000] Loss: 1.6314197778701782\n",
      "Train Epoch: 4 [19200/60000] Loss: 1.3634840250015259\n",
      "Train Epoch: 4 [25600/60000] Loss: 1.420913815498352\n",
      "Train Epoch: 4 [32000/60000] Loss: 1.0158021450042725\n",
      "Train Epoch: 4 [38400/60000] Loss: 1.5602269172668457\n",
      "Train Epoch: 4 [44800/60000] Loss: 1.846300482749939\n",
      "Train Epoch: 4 [51200/60000] Loss: 1.1708720922470093\n",
      "Train Epoch: 4 [57600/60000] Loss: 1.8234432935714722\n",
      "Train Epoch: 4, Loss: 1.3579459354313197, Accuracy: 63.44833333333333%\n",
      "\n",
      "Test set: Average loss: 0.6685, Accuracy: 79.42%\n",
      "\n",
      "Train Epoch: 5 [0/60000] Loss: 1.1423357725143433\n",
      "Train Epoch: 5 [6400/60000] Loss: 1.8662457466125488\n",
      "Train Epoch: 5 [12800/60000] Loss: 1.3124293088912964\n",
      "Train Epoch: 5 [19200/60000] Loss: 0.718341588973999\n",
      "Train Epoch: 5 [25600/60000] Loss: 1.9825958013534546\n",
      "Train Epoch: 5 [32000/60000] Loss: 2.260394811630249\n",
      "Train Epoch: 5 [38400/60000] Loss: 1.2669687271118164\n",
      "Train Epoch: 5 [44800/60000] Loss: 1.5815880298614502\n",
      "Train Epoch: 5 [51200/60000] Loss: 1.2414506673812866\n",
      "Train Epoch: 5 [57600/60000] Loss: 1.6116646528244019\n",
      "Train Epoch: 5, Loss: 1.3369241496647344, Accuracy: 64.04166666666667%\n",
      "\n",
      "Test set: Average loss: 0.6506, Accuracy: 80.07%\n",
      "\n",
      "Train Epoch: 6 [0/60000] Loss: 0.9932471513748169\n",
      "Train Epoch: 6 [6400/60000] Loss: 1.3158143758773804\n",
      "Train Epoch: 6 [12800/60000] Loss: 1.3049942255020142\n",
      "Train Epoch: 6 [19200/60000] Loss: 1.3539397716522217\n",
      "Train Epoch: 6 [25600/60000] Loss: 1.2599536180496216\n",
      "Train Epoch: 6 [32000/60000] Loss: 1.6787567138671875\n",
      "Train Epoch: 6 [38400/60000] Loss: 1.3356037139892578\n",
      "Train Epoch: 6 [44800/60000] Loss: 1.0839407444000244\n",
      "Train Epoch: 6 [51200/60000] Loss: 1.2091856002807617\n",
      "Train Epoch: 6 [57600/60000] Loss: 1.145916223526001\n",
      "Train Epoch: 6, Loss: 1.3142888722643415, Accuracy: 64.77166666666666%\n",
      "\n",
      "Test set: Average loss: 0.6936, Accuracy: 80.75%\n",
      "\n",
      "Train Epoch: 7 [0/60000] Loss: 0.8684179782867432\n",
      "Train Epoch: 7 [6400/60000] Loss: 1.7531352043151855\n",
      "Train Epoch: 7 [12800/60000] Loss: 1.633531928062439\n",
      "Train Epoch: 7 [19200/60000] Loss: 1.2579747438430786\n",
      "Train Epoch: 7 [25600/60000] Loss: 1.2497189044952393\n",
      "Train Epoch: 7 [32000/60000] Loss: 0.679481029510498\n",
      "Train Epoch: 7 [38400/60000] Loss: 0.8620009422302246\n",
      "Train Epoch: 7 [44800/60000] Loss: 1.8469864130020142\n",
      "Train Epoch: 7 [51200/60000] Loss: 1.1212162971496582\n",
      "Train Epoch: 7 [57600/60000] Loss: 1.2636966705322266\n",
      "Train Epoch: 7, Loss: 1.2767411717600914, Accuracy: 65.85833333333333%\n",
      "\n",
      "Test set: Average loss: 0.6465, Accuracy: 81.00%\n",
      "\n",
      "Train Epoch: 8 [0/60000] Loss: 0.7175736427307129\n",
      "Train Epoch: 8 [6400/60000] Loss: 1.5620099306106567\n",
      "Train Epoch: 8 [12800/60000] Loss: 1.7648197412490845\n",
      "Train Epoch: 8 [19200/60000] Loss: 1.7693113088607788\n",
      "Train Epoch: 8 [25600/60000] Loss: 2.046846866607666\n",
      "Train Epoch: 8 [32000/60000] Loss: 0.8623148202896118\n",
      "Train Epoch: 8 [38400/60000] Loss: 1.317710280418396\n",
      "Train Epoch: 8 [44800/60000] Loss: 1.2408227920532227\n",
      "Train Epoch: 8 [51200/60000] Loss: 0.9443060755729675\n",
      "Train Epoch: 8 [57600/60000] Loss: 1.1712572574615479\n",
      "Train Epoch: 8, Loss: 1.2813067927416453, Accuracy: 66.31333333333333%\n",
      "\n",
      "Test set: Average loss: 0.6289, Accuracy: 80.72%\n",
      "\n",
      "Train Epoch: 9 [0/60000] Loss: 1.260698676109314\n",
      "Train Epoch: 9 [6400/60000] Loss: 2.074842929840088\n",
      "Train Epoch: 9 [12800/60000] Loss: 0.6323329210281372\n",
      "Train Epoch: 9 [19200/60000] Loss: 0.6084253787994385\n",
      "Train Epoch: 9 [25600/60000] Loss: 1.3957915306091309\n",
      "Train Epoch: 9 [32000/60000] Loss: 0.9979221224784851\n",
      "Train Epoch: 9 [38400/60000] Loss: 1.3577977418899536\n",
      "Train Epoch: 9 [44800/60000] Loss: 1.0651614665985107\n",
      "Train Epoch: 9 [51200/60000] Loss: 1.0142372846603394\n",
      "Train Epoch: 9 [57600/60000] Loss: 1.5159342288970947\n",
      "Train Epoch: 9, Loss: 1.2426917772811612, Accuracy: 67.99166666666666%\n",
      "\n",
      "Test set: Average loss: 0.6109, Accuracy: 82.27%\n",
      "\n",
      "Train Epoch: 10 [0/60000] Loss: 1.9627776145935059\n",
      "Train Epoch: 10 [6400/60000] Loss: 1.7139208316802979\n",
      "Train Epoch: 10 [12800/60000] Loss: 0.573317289352417\n",
      "Train Epoch: 10 [19200/60000] Loss: 1.3236122131347656\n",
      "Train Epoch: 10 [25600/60000] Loss: 1.1571464538574219\n",
      "Train Epoch: 10 [32000/60000] Loss: 0.7265958786010742\n",
      "Train Epoch: 10 [38400/60000] Loss: 1.18580961227417\n",
      "Train Epoch: 10 [44800/60000] Loss: 1.30303955078125\n",
      "Train Epoch: 10 [51200/60000] Loss: 0.8956565260887146\n",
      "Train Epoch: 10 [57600/60000] Loss: 1.337581992149353\n",
      "Train Epoch: 10, Loss: 1.2415897077334714, Accuracy: 67.465%\n",
      "\n",
      "Test set: Average loss: 0.6022, Accuracy: 82.26%\n",
      "\n"
     ]
    }
   ],
   "source": [
    "# Lists to store training and test losses and accuracies\n",
    "train_losses = []\n",
    "test_losses = []\n",
    "train_accuracies = []\n",
    "test_accuracies = []\n",
    "\n",
    "# Training loop\n",
    "def train(epoch):\n",
    "    model.train()\n",
    "    correct = 0\n",
    "    total = 0\n",
    "    running_loss = 0.0\n",
    "\n",
    "    for batch_idx, (data, target) in enumerate(train_loader):\n",
    "        optimizer.zero_grad()\n",
    "        \n",
    "         # Apply either CutMix or MixUp\n",
    "        data, target = cutmix_or_mixup(data, target)\n",
    "        \n",
    "        output = model(data)\n",
    "        loss = criterion(output, target)\n",
    "        loss.backward()\n",
    "        optimizer.step()\n",
    "\n",
    "        running_loss += loss.item()\n",
    "        _, predicted = output.max(1)\n",
    "        total += target.size(0)\n",
    "        correct += (predicted == target.argmax(1)).sum().item()\n",
    "\n",
    "        if batch_idx % 100 == 0:\n",
    "            print(f\"Train Epoch: {epoch} [{batch_idx * len(data)}/{len(train_loader.dataset)}] Loss: {loss.item()}\")\n",
    "\n",
    "    train_losses.append(running_loss / len(train_loader))\n",
    "    train_accuracy = 100.0 * correct / total\n",
    "    train_accuracies.append(train_accuracy)\n",
    "    print(f\"Train Epoch: {epoch}, Loss: {running_loss / len(train_loader)}, Accuracy: {train_accuracy}%\")\n",
    "\n",
    "# Testing loop\n",
    "def test():\n",
    "    model.eval()\n",
    "    test_loss = 0\n",
    "    correct = 0\n",
    "    total = 0\n",
    "\n",
    "    with torch.no_grad():\n",
    "        for data, target in test_loader:\n",
    "            output = model(data)\n",
    "            test_loss += criterion(output, target).item()\n",
    "            _, predicted = output.max(1)\n",
    "            total += target.size(0)\n",
    "            correct += (predicted == target).sum().item()\n",
    "\n",
    "    test_loss /= len(test_loader)\n",
    "    accuracy = 100.0 * correct / total\n",
    "    test_accuracies.append(accuracy)\n",
    "    test_losses.append(test_loss)\n",
    "\n",
    "    print(f\"\\nTest set: Average loss: {test_loss:.4f}, Accuracy: {accuracy:.2f}%\\n\")\n",
    "\n",
    "# Training the ViT model\n",
    "for epoch in range(1, 11):  # Train for 10 epochs as an example\n",
    "    train(epoch)\n",
    "    test()"
   ]
  },
  {
   "cell_type": "code",
   "execution_count": 6,
   "metadata": {},
   "outputs": [
    {
     "data": {
      "image/png": "[encoded data removed]",
      "text/plain": [
       "<Figure size 1200x600 with 2 Axes>"
      ]
     },
     "metadata": {},
     "output_type": "display_data"
    }
   ],
   "source": [
    "# Plot the training and test losses and accuracies together\n",
    "plt.figure(figsize=(12, 6))\n",
    "\n",
    "# Plot training and test losses\n",
    "plt.subplot(1, 2, 1)\n",
    "plt.plot(train_losses, label='Training Loss')\n",
    "plt.plot(test_losses, label='Test Loss')\n",
    "plt.xlabel(\"Epoch\")\n",
    "plt.ylabel(\"Loss\")\n",
    "plt.legend()\n",
    "plt.title(\"Training and Test Loss Over Epochs\")\n",
    "\n",
    "# Plot training and test accuracies\n",
    "plt.subplot(1, 2, 2)\n",
    "plt.plot(train_accuracies, label='Training Accuracy')\n",
    "plt.plot(test_accuracies, label='Test Accuracy')\n",
    "plt.xlabel(\"Epoch\")\n",
    "plt.ylabel(\"Accuracy (%)\")\n",
    "plt.legend()\n",
    "plt.title(\"Training and Test Accuracy Over Epochs\")\n",
    "\n",
    "plt.tight_layout()\n",
    "plt.show()"
   ]
  },
  {
   "cell_type": "code",
   "execution_count": 7,
   "metadata": {},
   "outputs": [
    {
     "name": "stdout",
     "output_type": "stream",
     "text": [
      "[1.6743269043563525, 1.4292877216710211, 1.3670350243287808, 1.3579459354313197, 1.3369241496647344, 1.3142888722643415, 1.2767411717600914, 1.2813067927416453, 1.2426917772811612, 1.2415897077334714]\n"
     ]
    }
   ],
   "source": [
    "print(train_losses)"
   ]
  },
  {
   "cell_type": "code",
   "execution_count": 8,
   "metadata": {},
   "outputs": [
    {
     "name": "stdout",
     "output_type": "stream",
     "text": [
      "[0.9215200968608734, 0.7513292260990021, 0.7199410230490813, 0.6685042907098296, 0.6506355972426712, 0.6935970247930782, 0.6464861101785283, 0.6289460776717799, 0.6109151209995245, 0.6021956266111629]\n"
     ]
    }
   ],
   "source": [
    "print(test_losses)"
   ]
  },
  {
   "cell_type": "code",
   "execution_count": 9,
   "metadata": {},
   "outputs": [
    {
     "name": "stdout",
     "output_type": "stream",
     "text": [
      "[47.75, 61.625, 63.42333333333333, 63.44833333333333, 64.04166666666667, 64.77166666666666, 65.85833333333333, 66.31333333333333, 67.99166666666666, 67.465]\n"
     ]
    }
   ],
   "source": [
    "print(train_accuracies)"
   ]
  },
  {
   "cell_type": "code",
   "execution_count": 10,
   "metadata": {},
   "outputs": [
    {
     "name": "stdout",
     "output_type": "stream",
     "text": [
      "[73.57, 78.09, 77.99, 79.42, 80.07, 80.75, 81.0, 80.72, 82.27, 82.26]\n"
     ]
    }
   ],
   "source": [
    "print(test_accuracies)"
   ]
  },
  {
   "cell_type": "code",
   "execution_count": null,
   "metadata": {},
   "outputs": [],
   "source": []
  }
 ],
 "metadata": {
  "kernelspec": {
   "display_name": "Python 3",
   "language": "python",
   "name": "python3"
  },
  "language_info": {
   "codemirror_mode": {
    "name": "ipython",
    "version": 3
   },
   "file_extension": ".py",
   "mimetype": "text/x-python",
   "name": "python",
   "nbconvert_exporter": "python",
   "pygments_lexer": "ipython3",
   "version": "3.11.4"
  }
 },
 "nbformat": 4,
 "nbformat_minor": 2
}
